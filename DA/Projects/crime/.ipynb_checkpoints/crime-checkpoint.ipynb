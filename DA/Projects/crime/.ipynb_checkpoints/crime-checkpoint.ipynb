{
 "cells": [
  {
   "cell_type": "markdown",
   "id": "cd1b3119-7c90-4892-bfdf-4ac825d7c34a",
   "metadata": {},
   "source": [
    "-------------------------------------\n",
    "# ANALYZING CRIME IN LOS ANGELES    \n",
    "-------------------------------------\n"
   ]
  },
  {
   "cell_type": "markdown",
   "id": "31ab2131-3049-4d8d-b9dc-d195f72af27a",
   "metadata": {},
   "source": [
    "![Los Angeles skyline](la_skyline.jpg)\n",
    "\n",
    "Los Angeles, California 😎. The City of Angels. Tinseltown. The Entertainment Capital of the World! \n",
    "\n",
    "Known for its warm weather, palm trees, sprawling coastline, and Hollywood, along with producing some of the most iconic films and songs. However, as with any highly populated city, it isn't always glamorous and there can be a large volume of crime. That's where you can help!\n",
    "\n",
    "You have been asked to support the Los Angeles Police Department (LAPD) by analyzing crime data to identify patterns in criminal behavior. They plan to use your insights to allocate resources effectively to tackle various crimes in different areas.\n",
    "\n",
    "## The Data\n",
    "\n",
    "They have provided you with a single dataset to use. A summary and preview are provided below.\n",
    "\n",
    "It is a modified version of the original data, which is publicly available from Los Angeles Open Data.\n",
    "\n",
    "# crimes.csv\n",
    "\n",
    "| Column     | Description              |\n",
    "|------------|--------------------------|\n",
    "| `'DR_NO'` | Division of Records Number: Official file number made up of a 2-digit year, area ID, and 5 digits. |\n",
    "| `'Date Rptd'` | Date reported - MM/DD/YYYY. |\n",
    "| `'DATE OCC'` | Date of occurrence - MM/DD/YYYY. |\n",
    "| `'TIME OCC'` | In 24-hour military time. |\n",
    "| `'AREA NAME'` | The 21 Geographic Areas or Patrol Divisions are also given a name designation that references a landmark or the surrounding community that it is responsible for. For example, the 77th Street Division is located at the intersection of South Broadway and 77th Street, serving neighborhoods in South Los Angeles. |\n",
    "| `'Crm Cd Desc'` | Indicates the crime committed. |\n",
    "| `'Vict Age'` | Victim's age in years. |\n",
    "| `'Vict Sex'` | Victim's sex: `F`: Female, `M`: Male, `X`: Unknown. |\n",
    "| `'Vict Descent'` | Victim's descent:<ul><li>`A` - Other Asian</li><li>`B` - Black</li><li>`C` - Chinese</li><li>`D` - Cambodian</li><li>`F` - Filipino</li><li>`G` - Guamanian</li><li>`H` - Hispanic/Latin/Mexican</li><li>`I` - American Indian/Alaskan Native</li><li>`J` - Japanese</li><li>`K` - Korean</li><li>`L` - Laotian</li><li>`O` - Other</li><li>`P` - Pacific Islander</li><li>`S` - Samoan</li><li>`U` - Hawaiian</li><li>`V` - Vietnamese</li><li>`W` - White</li><li>`X` - Unknown</li><li>`Z` - Asian Indian</li> |\n",
    "| `'Weapon Desc'` | Description of the weapon used (if applicable). |\n",
    "| `'Status Desc'` | Crime status. |\n",
    "| `'LOCATION'` | Street address of the crime. |"
   ]
  },
  {
   "cell_type": "markdown",
   "id": "0ae76c34-c169-45c6-b3ee-11a537d3e537",
   "metadata": {},
   "source": [
    "### How to approach the project?\n",
    "    1. Finding the frequencies of crimes by the hour of occurrence\n",
    "\n",
    "    2. Identifying the area with the most night crime\n",
    "\n",
    "    3. Crimes by age group"
   ]
  },
  {
   "cell_type": "markdown",
   "id": "d63dfc7f-fb86-4916-bc50-8354845e109e",
   "metadata": {},
   "source": [
    "### Loading in the required libraries"
   ]
  },
  {
   "cell_type": "code",
   "execution_count": 1,
   "id": "7c6c3c36-5c8b-4cce-8681-95292b8f0861",
   "metadata": {
    "executionCancelledAt": null,
    "executionTime": 4364,
    "lastExecutedAt": 1692084859865,
    "lastScheduledRunId": null,
    "lastSuccessfullyExecutedCode": "# Start coding here\n# Import required libraries\nimport pandas as pd\nimport numpy as np\nimport matplotlib.pyplot as plt\nimport seaborn as sns\ncrimes = pd.read_csv(\"crimes.csv\", parse_dates=[\"Date Rptd\", \"DATE OCC\"], dtype={\"TIME OCC\": str})\ncrimes.head()",
    "outputsMetadata": {
     "0": {
      "height": 213,
      "type": "dataFrame"
     }
    }
   },
   "outputs": [
    {
     "data": {
      "text/html": [
       "<div>\n",
       "<style scoped>\n",
       "    .dataframe tbody tr th:only-of-type {\n",
       "        vertical-align: middle;\n",
       "    }\n",
       "\n",
       "    .dataframe tbody tr th {\n",
       "        vertical-align: top;\n",
       "    }\n",
       "\n",
       "    .dataframe thead th {\n",
       "        text-align: right;\n",
       "    }\n",
       "</style>\n",
       "<table border=\"1\" class=\"dataframe\">\n",
       "  <thead>\n",
       "    <tr style=\"text-align: right;\">\n",
       "      <th></th>\n",
       "      <th>DR_NO</th>\n",
       "      <th>Date Rptd</th>\n",
       "      <th>DATE OCC</th>\n",
       "      <th>TIME OCC</th>\n",
       "      <th>AREA NAME</th>\n",
       "      <th>Crm Cd Desc</th>\n",
       "      <th>Vict Age</th>\n",
       "      <th>Vict Sex</th>\n",
       "      <th>Vict Descent</th>\n",
       "      <th>Weapon Desc</th>\n",
       "      <th>Status Desc</th>\n",
       "      <th>LOCATION</th>\n",
       "    </tr>\n",
       "  </thead>\n",
       "  <tbody>\n",
       "    <tr>\n",
       "      <th>0</th>\n",
       "      <td>221412410</td>\n",
       "      <td>2022-06-15</td>\n",
       "      <td>2020-11-12</td>\n",
       "      <td>1700</td>\n",
       "      <td>Pacific</td>\n",
       "      <td>THEFT FROM MOTOR VEHICLE - PETTY ($950 &amp; UNDER)</td>\n",
       "      <td>0</td>\n",
       "      <td>NaN</td>\n",
       "      <td>NaN</td>\n",
       "      <td>NaN</td>\n",
       "      <td>Invest Cont</td>\n",
       "      <td>13600    MARINA POINT                 DR</td>\n",
       "    </tr>\n",
       "    <tr>\n",
       "      <th>1</th>\n",
       "      <td>220314085</td>\n",
       "      <td>2022-07-22</td>\n",
       "      <td>2020-05-12</td>\n",
       "      <td>1110</td>\n",
       "      <td>Southwest</td>\n",
       "      <td>THEFT OF IDENTITY</td>\n",
       "      <td>27</td>\n",
       "      <td>F</td>\n",
       "      <td>B</td>\n",
       "      <td>NaN</td>\n",
       "      <td>Invest Cont</td>\n",
       "      <td>2500 S  SYCAMORE                     AV</td>\n",
       "    </tr>\n",
       "    <tr>\n",
       "      <th>2</th>\n",
       "      <td>222013040</td>\n",
       "      <td>2022-08-06</td>\n",
       "      <td>2020-06-04</td>\n",
       "      <td>1620</td>\n",
       "      <td>Olympic</td>\n",
       "      <td>THEFT OF IDENTITY</td>\n",
       "      <td>60</td>\n",
       "      <td>M</td>\n",
       "      <td>H</td>\n",
       "      <td>NaN</td>\n",
       "      <td>Invest Cont</td>\n",
       "      <td>3300    SAN MARINO                   ST</td>\n",
       "    </tr>\n",
       "    <tr>\n",
       "      <th>3</th>\n",
       "      <td>220614831</td>\n",
       "      <td>2022-08-18</td>\n",
       "      <td>2020-08-17</td>\n",
       "      <td>1200</td>\n",
       "      <td>Hollywood</td>\n",
       "      <td>THEFT OF IDENTITY</td>\n",
       "      <td>28</td>\n",
       "      <td>M</td>\n",
       "      <td>H</td>\n",
       "      <td>NaN</td>\n",
       "      <td>Invest Cont</td>\n",
       "      <td>1900    TRANSIENT</td>\n",
       "    </tr>\n",
       "    <tr>\n",
       "      <th>4</th>\n",
       "      <td>231207725</td>\n",
       "      <td>2023-02-27</td>\n",
       "      <td>2020-01-27</td>\n",
       "      <td>0635</td>\n",
       "      <td>77th Street</td>\n",
       "      <td>THEFT OF IDENTITY</td>\n",
       "      <td>37</td>\n",
       "      <td>M</td>\n",
       "      <td>H</td>\n",
       "      <td>NaN</td>\n",
       "      <td>Invest Cont</td>\n",
       "      <td>6200    4TH                          AV</td>\n",
       "    </tr>\n",
       "  </tbody>\n",
       "</table>\n",
       "</div>"
      ],
      "text/plain": [
       "       DR_NO  Date Rptd   DATE OCC TIME OCC    AREA NAME  \\\n",
       "0  221412410 2022-06-15 2020-11-12     1700      Pacific   \n",
       "1  220314085 2022-07-22 2020-05-12     1110    Southwest   \n",
       "2  222013040 2022-08-06 2020-06-04     1620      Olympic   \n",
       "3  220614831 2022-08-18 2020-08-17     1200    Hollywood   \n",
       "4  231207725 2023-02-27 2020-01-27     0635  77th Street   \n",
       "\n",
       "                                       Crm Cd Desc  Vict Age Vict Sex  \\\n",
       "0  THEFT FROM MOTOR VEHICLE - PETTY ($950 & UNDER)         0      NaN   \n",
       "1                                THEFT OF IDENTITY        27        F   \n",
       "2                                THEFT OF IDENTITY        60        M   \n",
       "3                                THEFT OF IDENTITY        28        M   \n",
       "4                                THEFT OF IDENTITY        37        M   \n",
       "\n",
       "  Vict Descent Weapon Desc  Status Desc  \\\n",
       "0          NaN         NaN  Invest Cont   \n",
       "1            B         NaN  Invest Cont   \n",
       "2            H         NaN  Invest Cont   \n",
       "3            H         NaN  Invest Cont   \n",
       "4            H         NaN  Invest Cont   \n",
       "\n",
       "                                   LOCATION  \n",
       "0  13600    MARINA POINT                 DR  \n",
       "1   2500 S  SYCAMORE                     AV  \n",
       "2   3300    SAN MARINO                   ST  \n",
       "3                         1900    TRANSIENT  \n",
       "4   6200    4TH                          AV  "
      ]
     },
     "execution_count": 1,
     "metadata": {},
     "output_type": "execute_result"
    }
   ],
   "source": [
    "# Re-run this cell\n",
    "# Import required libraries\n",
    "import pandas as pd\n",
    "import numpy as np\n",
    "import matplotlib.pyplot as plt\n",
    "import seaborn as sns\n",
    "crimes = pd.read_csv(\"crimes.csv\", parse_dates=[\"Date Rptd\", \"DATE OCC\"], dtype={\"TIME OCC\": str})\n",
    "crimes.head()"
   ]
  },
  {
   "cell_type": "markdown",
   "id": "35603dfe-2508-4168-9bfc-947d15b555c4",
   "metadata": {},
   "source": [
    "### 1. Finding the frequencies of crimes by the hour of occurrence"
   ]
  },
  {
   "cell_type": "code",
   "execution_count": 3,
   "id": "783b9c59-601e-461f-9702-73fd60e33ba7",
   "metadata": {},
   "outputs": [],
   "source": [
    "# Extract the first two digits from \"TIME OCC\", representing the hour,\n",
    "# and convert to integer data type\n",
    "crimes[\"HOUR OCC\"] = crimes[\"TIME OCC\"].str[:2].astype(int)"
   ]
  },
  {
   "cell_type": "code",
   "execution_count": 4,
   "id": "c1146e3c-93bc-4b0f-a0d4-833ee2c70b21",
   "metadata": {},
   "outputs": [
    {
     "data": {
      "text/html": [
       "<div>\n",
       "<style scoped>\n",
       "    .dataframe tbody tr th:only-of-type {\n",
       "        vertical-align: middle;\n",
       "    }\n",
       "\n",
       "    .dataframe tbody tr th {\n",
       "        vertical-align: top;\n",
       "    }\n",
       "\n",
       "    .dataframe thead th {\n",
       "        text-align: right;\n",
       "    }\n",
       "</style>\n",
       "<table border=\"1\" class=\"dataframe\">\n",
       "  <thead>\n",
       "    <tr style=\"text-align: right;\">\n",
       "      <th></th>\n",
       "      <th>DR_NO</th>\n",
       "      <th>Date Rptd</th>\n",
       "      <th>DATE OCC</th>\n",
       "      <th>TIME OCC</th>\n",
       "      <th>AREA NAME</th>\n",
       "      <th>Crm Cd Desc</th>\n",
       "      <th>Vict Age</th>\n",
       "      <th>Vict Sex</th>\n",
       "      <th>Vict Descent</th>\n",
       "      <th>Weapon Desc</th>\n",
       "      <th>Status Desc</th>\n",
       "      <th>LOCATION</th>\n",
       "      <th>HOUR OCC</th>\n",
       "    </tr>\n",
       "  </thead>\n",
       "  <tbody>\n",
       "    <tr>\n",
       "      <th>0</th>\n",
       "      <td>221412410</td>\n",
       "      <td>2022-06-15</td>\n",
       "      <td>2020-11-12</td>\n",
       "      <td>1700</td>\n",
       "      <td>Pacific</td>\n",
       "      <td>THEFT FROM MOTOR VEHICLE - PETTY ($950 &amp; UNDER)</td>\n",
       "      <td>0</td>\n",
       "      <td>NaN</td>\n",
       "      <td>NaN</td>\n",
       "      <td>NaN</td>\n",
       "      <td>Invest Cont</td>\n",
       "      <td>13600    MARINA POINT                 DR</td>\n",
       "      <td>17</td>\n",
       "    </tr>\n",
       "    <tr>\n",
       "      <th>1</th>\n",
       "      <td>220314085</td>\n",
       "      <td>2022-07-22</td>\n",
       "      <td>2020-05-12</td>\n",
       "      <td>1110</td>\n",
       "      <td>Southwest</td>\n",
       "      <td>THEFT OF IDENTITY</td>\n",
       "      <td>27</td>\n",
       "      <td>F</td>\n",
       "      <td>B</td>\n",
       "      <td>NaN</td>\n",
       "      <td>Invest Cont</td>\n",
       "      <td>2500 S  SYCAMORE                     AV</td>\n",
       "      <td>11</td>\n",
       "    </tr>\n",
       "    <tr>\n",
       "      <th>2</th>\n",
       "      <td>222013040</td>\n",
       "      <td>2022-08-06</td>\n",
       "      <td>2020-06-04</td>\n",
       "      <td>1620</td>\n",
       "      <td>Olympic</td>\n",
       "      <td>THEFT OF IDENTITY</td>\n",
       "      <td>60</td>\n",
       "      <td>M</td>\n",
       "      <td>H</td>\n",
       "      <td>NaN</td>\n",
       "      <td>Invest Cont</td>\n",
       "      <td>3300    SAN MARINO                   ST</td>\n",
       "      <td>16</td>\n",
       "    </tr>\n",
       "    <tr>\n",
       "      <th>3</th>\n",
       "      <td>220614831</td>\n",
       "      <td>2022-08-18</td>\n",
       "      <td>2020-08-17</td>\n",
       "      <td>1200</td>\n",
       "      <td>Hollywood</td>\n",
       "      <td>THEFT OF IDENTITY</td>\n",
       "      <td>28</td>\n",
       "      <td>M</td>\n",
       "      <td>H</td>\n",
       "      <td>NaN</td>\n",
       "      <td>Invest Cont</td>\n",
       "      <td>1900    TRANSIENT</td>\n",
       "      <td>12</td>\n",
       "    </tr>\n",
       "    <tr>\n",
       "      <th>4</th>\n",
       "      <td>231207725</td>\n",
       "      <td>2023-02-27</td>\n",
       "      <td>2020-01-27</td>\n",
       "      <td>0635</td>\n",
       "      <td>77th Street</td>\n",
       "      <td>THEFT OF IDENTITY</td>\n",
       "      <td>37</td>\n",
       "      <td>M</td>\n",
       "      <td>H</td>\n",
       "      <td>NaN</td>\n",
       "      <td>Invest Cont</td>\n",
       "      <td>6200    4TH                          AV</td>\n",
       "      <td>6</td>\n",
       "    </tr>\n",
       "  </tbody>\n",
       "</table>\n",
       "</div>"
      ],
      "text/plain": [
       "       DR_NO  Date Rptd   DATE OCC TIME OCC    AREA NAME  \\\n",
       "0  221412410 2022-06-15 2020-11-12     1700      Pacific   \n",
       "1  220314085 2022-07-22 2020-05-12     1110    Southwest   \n",
       "2  222013040 2022-08-06 2020-06-04     1620      Olympic   \n",
       "3  220614831 2022-08-18 2020-08-17     1200    Hollywood   \n",
       "4  231207725 2023-02-27 2020-01-27     0635  77th Street   \n",
       "\n",
       "                                       Crm Cd Desc  Vict Age Vict Sex  \\\n",
       "0  THEFT FROM MOTOR VEHICLE - PETTY ($950 & UNDER)         0      NaN   \n",
       "1                                THEFT OF IDENTITY        27        F   \n",
       "2                                THEFT OF IDENTITY        60        M   \n",
       "3                                THEFT OF IDENTITY        28        M   \n",
       "4                                THEFT OF IDENTITY        37        M   \n",
       "\n",
       "  Vict Descent Weapon Desc  Status Desc  \\\n",
       "0          NaN         NaN  Invest Cont   \n",
       "1            B         NaN  Invest Cont   \n",
       "2            H         NaN  Invest Cont   \n",
       "3            H         NaN  Invest Cont   \n",
       "4            H         NaN  Invest Cont   \n",
       "\n",
       "                                   LOCATION  HOUR OCC  \n",
       "0  13600    MARINA POINT                 DR        17  \n",
       "1   2500 S  SYCAMORE                     AV        11  \n",
       "2   3300    SAN MARINO                   ST        16  \n",
       "3                         1900    TRANSIENT        12  \n",
       "4   6200    4TH                          AV         6  "
      ]
     },
     "execution_count": 4,
     "metadata": {},
     "output_type": "execute_result"
    }
   ],
   "source": [
    "# Preview the DataFrame to confirm the new column is correct\n",
    "crimes.head()"
   ]
  },
  {
   "cell_type": "code",
   "execution_count": 10,
   "id": "8a7ad90a-b61d-4453-bbdc-da0f48c7220c",
   "metadata": {},
   "outputs": [
    {
     "data": {
      "image/png": "[encoded data removed]",
      "text/plain": [
       "<Figure size 640x480 with 1 Axes>"
      ]
     },
     "metadata": {},
     "output_type": "display_data"
    }
   ],
   "source": [
    "# Produce a countplot to find the largest frequency of crimes by hour\n",
    "sns.countplot(data=crimes, x=\"HOUR OCC\")\n",
    "plt.show()\n"
   ]
  },
  {
   "cell_type": "code",
   "execution_count": 16,
   "id": "08b3c991-2581-44db-82bc-0d4f93478a8d",
   "metadata": {},
   "outputs": [
    {
     "name": "stdout",
     "output_type": "stream",
     "text": [
      "Therefore the largest volume of crime is: 12 NN or MIDDAY!\n"
     ]
    }
   ],
   "source": [
    "# Midday has the largest volume of crime\n",
    "peak_crime_hour = 12\n",
    "print(f\"Therefore the largest volume of crime is: {peak_crime_hour} NN or MIDDAY!\")\n"
   ]
  },
  {
   "cell_type": "markdown",
   "id": "4a63edd4-1fc8-4e6f-b69a-861d2281d7f5",
   "metadata": {},
   "source": [
    "### 2. Identifying the area with the most night crime"
   ]
  },
  {
   "cell_type": "code",
   "execution_count": 19,
   "id": "0a408740-aed7-436d-a2e6-b700dd8909b8",
   "metadata": {},
   "outputs": [
    {
     "data": {
      "text/plain": [
       "9      0\n",
       "12     1\n",
       "36     0\n",
       "39    23\n",
       "42     0\n",
       "Name: HOUR OCC, dtype: int64"
      ]
     },
     "execution_count": 19,
     "metadata": {},
     "output_type": "execute_result"
    }
   ],
   "source": [
    "## Which area has the largest frequency of night crimes (crimes committed between 10pm and 3:59am)? \n",
    "## Save as a string variable called peak_night_crime_location\n",
    "# Filter for the night-time hours\n",
    "# 0 = midnight; 3 = crimes between 3am and 3:59am, i.e., don't include 4\n",
    "night_time = crimes[crimes[\"HOUR OCC\"].isin([22,23,0,1,2,3])]\n",
    "night_time[\"HOUR OCC\"].head()"
   ]
  },
  {
   "cell_type": "code",
   "execution_count": 22,
   "id": "b9f19e92-e817-44ff-b336-4f2d81246b78",
   "metadata": {},
   "outputs": [],
   "source": [
    "# Group by \"AREA NAME\" and count occurrences, filtering for the largest value and saving the \"AREA NAME\"\n",
    "peak_night_crime_location = night_time.groupby(\"AREA NAME\", \n",
    "                                               as_index=False)[\"HOUR OCC\"].count().sort_values(\"HOUR OCC\",\n",
    "                                                                                               ascending=False).iloc[0][\"AREA NAME\"]"
   ]
  },
  {
   "cell_type": "code",
   "execution_count": 24,
   "id": "77329ab3-efa6-45be-bb17-3610abb1a465",
   "metadata": {},
   "outputs": [
    {
     "name": "stdout",
     "output_type": "stream",
     "text": [
      "The area with the largest volume of night crime is Central\n"
     ]
    }
   ],
   "source": [
    "# Print the peak night crime location\n",
    "print(f\"The area with the largest volume of night crime is {peak_night_crime_location}\")\n"
   ]
  },
  {
   "cell_type": "markdown",
   "id": "4306dbb0-964d-4a83-b2f2-d62d09439870",
   "metadata": {},
   "source": [
    "### 3. Crimes by age group"
   ]
  },
  {
   "cell_type": "code",
   "execution_count": 25,
   "id": "a638a22b-5eba-4c5d-b920-9be5b62ab800",
   "metadata": {},
   "outputs": [],
   "source": [
    "## Identify the number of crimes committed against victims by age group (0-17, 18-25, 26-34, 35-44, 45-54, 55-64, 65+) \n",
    "## Save as a pandas Series called victim_ages\n",
    "# Create bins and labels for victim age ranges\n",
    "age_bins = [0, 17, 25, 34, 44, 54, 64, np.inf]\n",
    "age_labels = [\"0-17\", \"18-25\", \"26-34\", \"35-44\", \"45-54\", \"55-64\", \"65+\"]"
   ]
  },
  {
   "cell_type": "code",
   "execution_count": 26,
   "id": "7d63ff42-447b-4b14-94bb-eb21cd1daf52",
   "metadata": {},
   "outputs": [
    {
     "name": "stdout",
     "output_type": "stream",
     "text": [
      "26-34    47470\n",
      "35-44    42157\n",
      "45-54    28353\n",
      "18-25    28291\n",
      "55-64    20169\n",
      "65+      14747\n",
      "0-17      4528\n",
      "Name: Age Bracket, dtype: int64\n"
     ]
    }
   ],
   "source": [
    "# Add a new column using pd.cut() to bin values into discrete intervals\n",
    "crimes[\"Age Bracket\"] = pd.cut(crimes[\"Vict Age\"],\n",
    "                               bins=age_bins,\n",
    "                               labels=age_labels)\n",
    "\n",
    "# Find the category with the largest frequency\n",
    "victim_ages = crimes[\"Age Bracket\"].value_counts()\n",
    "print(victim_ages)"
   ]
  },
  {
   "cell_type": "code",
   "execution_count": null,
   "id": "8819a2fa-93f9-44bc-9a84-59bba62c0a9e",
   "metadata": {},
   "outputs": [],
   "source": []
  }
 ],
 "metadata": {
  "colab": {
   "name": "Welcome to DataCamp Workspaces.ipynb",
   "provenance": []
  },
  "kernelspec": {
   "display_name": "Python 3 (ipykernel)",
   "language": "python",
   "name": "python3"
  },
  "language_info": {
   "codemirror_mode": {
    "name": "ipython",
    "version": 3
   },
   "file_extension": ".py",
   "mimetype": "text/x-python",
   "name": "python",
   "nbconvert_exporter": "python",
   "pygments_lexer": "ipython3",
   "version": "3.9.13"
  }
 },
 "nbformat": 4,
 "nbformat_minor": 5
}
