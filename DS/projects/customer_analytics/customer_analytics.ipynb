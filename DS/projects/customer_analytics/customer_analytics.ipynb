{
 "cells": [
  {
   "cell_type": "markdown",
   "id": "8c9a6fd0-3452-400d-97c2-e33aaf593498",
   "metadata": {},
   "source": [
    "# Customer Analytics: Preparing Data for Modeling"
   ]
  },
  {
   "cell_type": "markdown",
   "id": "a09e6d54-bf3f-4632-b299-bd49d5c80d5f",
   "metadata": {},
   "source": [
    "![Two data scientists working on a dashboard.](hr-image-small.png)\n",
    "\n",
    "A common problem when creating models to generate business value from data is that the datasets can be so large that it can take days for the model to generate predictions. Ensuring that your dataset is stored as efficiently as possible is crucial for allowing these models to run on a more reasonable timescale without having to reduce the size of the dataset.\n",
    "\n",
    "You've been hired by a major online data science training provider called *Training Data Ltd.* to clean up one of their largest customer datasets. This dataset will eventually be used to predict whether their students are looking for a new job or not, information that they will then use to direct them to prospective recruiters.\n",
    "\n",
    "You've been given access to `customer_train.csv`, which is a subset of their entire customer dataset, so you can create a proof-of-concept of a much more efficient storage solution. The dataset contains anonymized student information, and whether they were looking for a new job or not during training:\n",
    "\n",
    "| Column       | Description                                  |\n",
    "|------------- |--------------------------------------------- |\n",
    "| `student_id`   | A unique ID for each student.                 |\n",
    "| `city`  | A code for the city the student lives in.  |\n",
    "| `city_development_index` | A scaled development index for the city.       |\n",
    "| `gender` | The student's gender.       |\n",
    "| `relevant_experience` | An indicator of the student's work relevant experience.       |\n",
    "| `enrolled_university` | The type of university course enrolled in (if any).       |\n",
    "| `education_level` | The student's education level.       |\n",
    "| `major_discipline` | The educational discipline of the student.       |\n",
    "| `experience` | The student's total work experience (in years).       |\n",
    "| `company_size` | The number of employees at the student's current employer.       |\n",
    "| `last_new_job` | The number of years between the student's current and previous jobs.       |\n",
    "| `training_hours` | The number of hours of training completed.       |\n",
    "| `job_change` | An indicator of whether the student is looking for a new job (`1`) or not (`0`).       |"
   ]
  },
  {
   "cell_type": "markdown",
   "id": "7222030f-c963-4a6a-a4cd-59dfa2cc19d8",
   "metadata": {},
   "source": [
    "### Project Requirements\n",
    "\n",
    "The Head Data Scientist at Training Data Ltd. has asked you to create a DataFrame called ds_jobs_clean that stores the data in customer_train.csv much more efficiently. Specifically, they have set the following requirements:\n",
    "\n",
    "Columns containing integers must be stored as 32-bit integers (int32).\n",
    "Columns containing floats must be stored as 16-bit floats (float16).\n",
    "Columns containing nominal categorical data must be stored as the category data type.\n",
    "Columns containing ordinal categorical data must be stored as ordered categories, and not mapped to numerical values, with an order that reflects the natural order of the column.\n",
    "The columns of ds_jobs_clean must be in the same order as the original dataset.\n",
    "The DataFrame should be filtered to only contain students with 10 or more years of experience at companies with at least 1000 employees, as their recruiter base is suited to more experienced professionals at enterprise companies.\n",
    "If you call .info() or .memory_usage() methods on ds_jobs and ds_jobs_clean after you've preprocessed it, you should notice a substantial decrease in memory usage.\n"
   ]
  },
  {
   "cell_type": "markdown",
   "id": "78e2d483-eacd-44dc-9316-8b7fdfb89817",
   "metadata": {},
   "source": [
    "### How to approach the project\n",
    "\n",
    "1. Exploratory data analysis\n",
    "\n",
    "2. Converting integers, floats, and unordered categories\n",
    "\n",
    "3. Converting ordered categories\n",
    "\n",
    "4. Reordering columns\n",
    "\n",
    "5. Filtering on ordered categorical columns"
   ]
  },
  {
   "cell_type": "markdown",
   "id": "f2fa8d0d-b5c0-417d-910c-0fbc31402f94",
   "metadata": {},
   "source": [
    "### Importing the required library"
   ]
  },
  {
   "cell_type": "code",
   "execution_count": null,
   "id": "7dacda55-041c-4985-87ee-af451dcd6d8c",
   "metadata": {},
   "outputs": [],
   "source": [
    "# Start your code here!\n",
    "import pandas as pd"
   ]
  },
  {
   "cell_type": "markdown",
   "id": "edf41dce-a3b6-476f-82c9-f831992c7e73",
   "metadata": {},
   "source": [
    "### 1. Exploratory data analysis\n",
    "\n",
    "Load customer_train.csv to begin exploring the data to understand the contents and data types of the values in each column.\n",
    "\n",
    "\n",
    "How to find the data types and contents of a column"
   ]
  },
  {
   "cell_type": "markdown",
   "id": "d0ee5e3e-5ec5-46da-be90-c7714dcb6a5e",
   "metadata": {},
   "source": [
    "### 2. Converting integers, floats, and unordered categories\n",
    "\n",
    "Convert columns containing integers to the int32 type, floats to the float16 type, and nominal categories to the category type."
   ]
  },
  {
   "cell_type": "markdown",
   "id": "c262e374-36f4-44f5-80a0-a83cde7645d7",
   "metadata": {},
   "source": [
    "### 3. Converting ordered categories\n",
    "\n",
    "Convert columns containing ordinal categorical data into ordered categories."
   ]
  },
  {
   "cell_type": "markdown",
   "id": "e541fbe6-caa8-4f5f-a65a-f825302b1c30",
   "metadata": {},
   "source": [
    "### 4. Reordering columns\n",
    "\n",
    "Reorder the columns of ds_jobs_clean so it has the same column ordering as the original dataset."
   ]
  },
  {
   "cell_type": "markdown",
   "id": "c7d8e354-fb9d-4807-90e2-8b68822f9473",
   "metadata": {},
   "source": [
    "### 5. Filtering on ordered categorical columns\n",
    "\n",
    "Filter the DataFrame to only contain students with 10 or more years of experience at companies with at least 1000 employees."
   ]
  },
  {
   "cell_type": "code",
   "execution_count": null,
   "id": "93d9a3fa-98ac-4051-95b1-25ed93ecfbb8",
   "metadata": {},
   "outputs": [],
   "source": [
    "# Load the dataset\n",
    "ds_jobs = pd.read_csv(\"customer_train.csv\")\n",
    "\n",
    "# Copy the DataFrame for cleaning\n",
    "ds_jobs_clean = ds_jobs.copy()\n",
    "\n",
    "# Create a dictionary of columns containing ordered categorical data\n",
    "ordered_cats = {\n",
    "    'relevant_experience': ['No relevant experience', 'Has relevant experience'],\n",
    "    'enrolled_university': ['no_enrollment', 'Part time course', 'Full time course'],\n",
    "    'education_level': ['Primary School', 'High School', 'Graduate', 'Masters', 'Phd'],\n",
    "    'experience': ['<1'] + list(map(str, range(1, 21))) + ['>20'],\n",
    "    'company_size': ['<10', '10-49', '50-99', '100-499', '500-999', '1000-4999', '5000-9999', '10000+'],\n",
    "    'last_new_job': ['never', '1', '2', '3', '4', '>4']\n",
    "}\n",
    "\n",
    "# Loop through DataFrame columns to efficiently change data types\n",
    "for col in ds_jobs_clean:\n",
    "    \n",
    "    # Convert integer columns to int32\n",
    "    if ds_jobs_clean[col].dtype == 'int':\n",
    "        ds_jobs_clean[col] = ds_jobs_clean[col].astype('int32')\n",
    "    \n",
    "    # Convert float columns to float16\n",
    "    elif ds_jobs_clean[col].dtype == 'float':\n",
    "        ds_jobs_clean[col] = ds_jobs_clean[col].astype('float16')\n",
    "    \n",
    "    # Convert columns containing ordered categorical data to ordered categories using dict\n",
    "    elif col in ordered_cats.keys():\n",
    "        category = pd.CategoricalDtype(ordered_cats[col], ordered=True)\n",
    "        ds_jobs_clean[col] = ds_jobs_clean[col].astype(category)\n",
    "    \n",
    "    # Convert remaining columns to standard categories\n",
    "    else:\n",
    "        ds_jobs_clean[col] = ds_jobs_clean[col].astype('category')\n",
    "        \n",
    "# Filter students with 10 or more years experience at companies with at least 1000 employees\n",
    "ds_jobs_clean = ds_jobs_clean[(ds_jobs_clean['experience'] >= '10') & (ds_jobs_clean['company_size'] >= '1000-4999')]"
   ]
  }
 ],
 "metadata": {
  "editor": "DataCamp Workspace",
  "kernelspec": {
   "display_name": "Python 3 (ipykernel)",
   "language": "python",
   "name": "python3"
  },
  "language_info": {
   "codemirror_mode": {
    "name": "ipython",
    "version": 3
   },
   "file_extension": ".py",
   "mimetype": "text/x-python",
   "name": "python",
   "nbconvert_exporter": "python",
   "pygments_lexer": "ipython3",
   "version": "3.9.13"
  }
 },
 "nbformat": 4,
 "nbformat_minor": 5
}
